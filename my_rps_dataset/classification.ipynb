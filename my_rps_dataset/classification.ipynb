{
 "cells": [
  {
   "cell_type": "markdown",
   "id": "a6d9b0b8",
   "metadata": {},
   "source": [
    "## Training"
   ]
  },
  {
   "cell_type": "code",
   "execution_count": 1,
   "id": "4ea4f210",
   "metadata": {},
   "outputs": [],
   "source": [
    "import cv2\n",
    "import mediapipe as mp\n",
    "import numpy as np\n",
    "import os\n",
    "from sklearn.model_selection import train_test_split\n",
    "from sklearn.preprocessing import LabelEncoder\n",
    "import torch\n",
    "import torch.nn as nn\n",
    "import torch.optim as optim\n",
    "from torch.utils.data import Dataset, DataLoader\n",
    "import matplotlib.pyplot as plt\n",
    "import pickle\n",
    "from tqdm import tqdm"
   ]
  },
  {
   "cell_type": "code",
   "execution_count": 2,
   "id": "5727f9e1",
   "metadata": {},
   "outputs": [],
   "source": [
    "class GestureDataset(Dataset):\n",
    "    def __init__(self, sequences, labels):\n",
    "        self.sequences = torch.FloatTensor(sequences)\n",
    "        self.labels = torch.LongTensor(labels)\n",
    "    \n",
    "    def __len__(self):\n",
    "        return len(self.sequences)\n",
    "    \n",
    "    def __getitem__(self, idx):\n",
    "        return self.sequences[idx], self.labels[idx]"
   ]
  },
  {
   "cell_type": "code",
   "execution_count": null,
   "id": "77dfc3bf",
   "metadata": {},
   "outputs": [],
   "source": [
    "class GestureLSTM(nn.Module):\n",
    "    def __init__(self, input_size, hidden_size, num_layers, num_classes, dropout=0.2):\n",
    "        super(GestureLSTM, self).__init__()\n",
    "        self.hidden_size = hidden_size\n",
    "        self.num_layers = num_layers\n",
    "        \n",
    "        self.lstm = nn.LSTM(input_size, hidden_size, num_layers, \n",
    "                           batch_first=True, dropout=dropout)\n",
    "        self.dropout = nn.Dropout(dropout)\n",
    "        self.fc1 = nn.Linear(hidden_size, 32)\n",
    "        self.relu = nn.ReLU()\n",
    "        self.fc2 = nn.Linear(32, num_classes)\n",
    "        \n",
    "    def forward(self, x):\n",
    "        # Initialize hidden state\n",
    "        h0 = torch.zeros(self.num_layers, x.size(0), self.hidden_size).to(x.device)\n",
    "        c0 = torch.zeros(self.num_layers, x.size(0), self.hidden_size).to(x.device)\n",
    "        \n",
    "        # LSTM forward pass\n",
    "        out, _ = self.lstm(x, (h0, c0))\n",
    "        \n",
    "        # Take the last output\n",
    "        out = out[:, -1, :]\n",
    "        \n",
    "        # Fully connected layers\n",
    "        out = self.dropout(out)\n",
    "        out = self.fc1(out)\n",
    "        out = self.relu(out)\n",
    "        out = self.dropout(out)\n",
    "        out = self.fc2(out)\n",
    "        \n",
    "        return out\n",
    "\n",
    "class RPSGestureClassifier:\n",
    "    def __init__(self, sequence_length=15):\n",
    "        self.sequence_length = sequence_length\n",
    "        self.mp_hands = mp.solutions.hands\n",
    "        self.hands = self.mp_hands.Hands(\n",
    "            static_image_mode=False,\n",
    "            max_num_hands=1,\n",
    "            min_detection_confidence=0.5,\n",
    "            min_tracking_confidence=0.5\n",
    "        )\n",
    "        self.mp_drawing = mp.solutions.drawing_utils\n",
    "        self.label_encoder = LabelEncoder()\n",
    "        self.model = None\n",
    "        self.device = torch.device(\"cuda\" if torch.cuda.is_available() else \"cpu\")\n",
    "        print(f\"Using device: {self.device}\")\n",
    "        \n",
    "    def extract_landmarks_from_video(self, video_path):\n",
    "        \"\"\"Extract hand landmarks from a video file\"\"\"\n",
    "        cap = cv2.VideoCapture(video_path)\n",
    "        landmarks_sequence = []\n",
    "        \n",
    "        while True:\n",
    "            ret, frame = cap.read()\n",
    "            if not ret:\n",
    "                break\n",
    "                \n",
    "            # Convert BGR to RGB\n",
    "            rgb_frame = cv2.cvtColor(frame, cv2.COLOR_BGR2RGB)\n",
    "            \n",
    "            # Process frame\n",
    "            results = self.hands.process(rgb_frame)\n",
    "            \n",
    "            if results.multi_hand_landmarks:\n",
    "                # Get first hand landmarks\n",
    "                hand_landmarks = results.multi_hand_landmarks[0]\n",
    "                \n",
    "                # Extract x, y, z coordinates\n",
    "                landmarks = []\n",
    "                for lm in hand_landmarks.landmark:\n",
    "                    landmarks.extend([lm.x, lm.y, lm.z])\n",
    "                \n",
    "                landmarks_sequence.append(landmarks)\n",
    "            else:\n",
    "                # If no hand detected, use previous frame or zeros\n",
    "                if landmarks_sequence:\n",
    "                    landmarks_sequence.append(landmarks_sequence[-1])\n",
    "                else:\n",
    "                    landmarks_sequence.append([0.0] * 63)  # 21 landmarks * 3 coordinates\n",
    "        \n",
    "        cap.release()\n",
    "        return np.array(landmarks_sequence)\n",
    "    \n",
    "    def normalize_landmarks(self, landmarks):\n",
    "        \"\"\"Normalize landmarks relative to wrist position\"\"\"\n",
    "        if len(landmarks) == 0:\n",
    "            return landmarks\n",
    "            \n",
    "        normalized = landmarks.copy()\n",
    "        \n",
    "        for i in range(len(landmarks)):\n",
    "            if np.sum(landmarks[i]) == 0:  # Skip zero frames\n",
    "                continue\n",
    "                \n",
    "            # Reshape to get individual landmarks\n",
    "            frame_landmarks = landmarks[i].reshape(21, 3)\n",
    "            \n",
    "            # Get wrist position (landmark 0)\n",
    "            wrist = frame_landmarks[0]\n",
    "            \n",
    "            # Subtract wrist position from all landmarks\n",
    "            frame_landmarks = frame_landmarks - wrist\n",
    "            \n",
    "            # Calculate hand size (distance from wrist to middle finger tip)\n",
    "            hand_size = np.linalg.norm(frame_landmarks[12])  # Middle finger tip\n",
    "            \n",
    "            # Normalize by hand size (avoid division by zero)\n",
    "            if hand_size > 0:\n",
    "                frame_landmarks = frame_landmarks / hand_size\n",
    "            \n",
    "            normalized[i] = frame_landmarks.flatten()\n",
    "        \n",
    "        return normalized\n",
    "    \n",
    "    def create_sequences(self, landmarks, label):\n",
    "        \"\"\"Create fixed-length sequences from landmark data\"\"\"\n",
    "        sequences = []\n",
    "        labels = []\n",
    "        \n",
    "        if len(landmarks) < self.sequence_length:\n",
    "            # If video is too short, pad with last frame\n",
    "            padding = [landmarks[-1]] * (self.sequence_length - len(landmarks))\n",
    "            landmarks = np.vstack([landmarks, padding])\n",
    "        \n",
    "        # Create overlapping sequences\n",
    "        for i in range(len(landmarks) - self.sequence_length + 1):\n",
    "            sequence = landmarks[i:i + self.sequence_length]\n",
    "            sequences.append(sequence)\n",
    "            labels.append(label)\n",
    "        \n",
    "        return np.array(sequences), np.array(labels)\n",
    "    \n",
    "    def process_video_dataset(self, video_dir):\n",
    "        \"\"\"Process all videos in a directory structure\"\"\"\n",
    "        all_sequences = []\n",
    "        all_labels = []\n",
    "        \n",
    "        # Expected directory structure: video_dir/gesture_name/video_files\n",
    "        gesture_dirs = [d for d in os.listdir(video_dir) if os.path.isdir(os.path.join(video_dir, d))]\n",
    "        \n",
    "        for gesture_name in gesture_dirs:\n",
    "            gesture_path = os.path.join(video_dir, gesture_name)\n",
    "            video_files = [f for f in os.listdir(gesture_path) if f.endswith(('.mp4', '.avi', '.mov'))]\n",
    "            \n",
    "            print(f\"Processing {len(video_files)} videos for gesture: {gesture_name}\")\n",
    "            \n",
    "            for video_file in video_files:\n",
    "                video_path = os.path.join(gesture_path, video_file)\n",
    "                \n",
    "                # Extract landmarks\n",
    "                landmarks = self.extract_landmarks_from_video(video_path)\n",
    "                \n",
    "                if len(landmarks) > 0:\n",
    "                    # Normalize landmarks\n",
    "                    normalized_landmarks = self.normalize_landmarks(landmarks)\n",
    "                    \n",
    "                    # Create sequences\n",
    "                    sequences, labels = self.create_sequences(normalized_landmarks, gesture_name)\n",
    "                    \n",
    "                    all_sequences.extend(sequences)\n",
    "                    all_labels.extend(labels)\n",
    "        \n",
    "        return np.array(all_sequences), np.array(all_labels)\n",
    "    \n",
    "    def train(self, video_dir, test_size=0.2, epochs=50, batch_size=32, learning_rate=0.001):\n",
    "        \"\"\"Train the gesture classification model\"\"\"\n",
    "        print(\"Processing video dataset...\")\n",
    "        X, y = self.process_video_dataset(video_dir)\n",
    "        \n",
    "        print(f\"Total sequences: {len(X)}\")\n",
    "        print(f\"Sequence shape: {X.shape}\")\n",
    "        print(f\"Unique labels: {np.unique(y)}\")\n",
    "        \n",
    "        # Encode labels\n",
    "        y_encoded = self.label_encoder.fit_transform(y)\n",
    "        \n",
    "        # Split data\n",
    "        X_train, X_test, y_train, y_test = train_test_split(\n",
    "            X, y_encoded, test_size=test_size, random_state=42, stratify=y_encoded\n",
    "        )\n",
    "        \n",
    "        print(f\"Training samples: {len(X_train)}\")\n",
    "        print(f\"Testing samples: {len(X_test)}\")\n",
    "        \n",
    "        # Create datasets and dataloaders\n",
    "        train_dataset = GestureDataset(X_train, y_train)\n",
    "        test_dataset = GestureDataset(X_test, y_test)\n",
    "        \n",
    "        train_loader = DataLoader(train_dataset, batch_size=batch_size, shuffle=True)\n",
    "        test_loader = DataLoader(test_dataset, batch_size=batch_size, shuffle=False)\n",
    "        \n",
    "        # Initialize model\n",
    "        input_size = 63  # 21 landmarks * 3 coordinates\n",
    "        hidden_size = 64\n",
    "        num_layers = 2\n",
    "        num_classes = len(np.unique(y_encoded))\n",
    "        \n",
    "        self.model = GestureLSTM(input_size, hidden_size, num_layers, num_classes)\n",
    "        self.model.to(self.device)\n",
    "        \n",
    "        # Loss and optimizer\n",
    "        criterion = nn.CrossEntropyLoss()\n",
    "        optimizer = optim.Adam(self.model.parameters(), lr=learning_rate)\n",
    "        \n",
    "        # Training history\n",
    "        train_losses = []\n",
    "        train_accuracies = []\n",
    "        test_losses = []\n",
    "        test_accuracies = []\n",
    "        \n",
    "        print(\"Starting training...\")\n",
    "        for epoch in range(epochs):\n",
    "            # Training phase\n",
    "            self.model.train()\n",
    "            train_loss = 0.0\n",
    "            correct_train = 0\n",
    "            total_train = 0\n",
    "            \n",
    "            for sequences, labels in tqdm(train_loader, desc=f\"Epoch {epoch+1}/{epochs}\"):\n",
    "                sequences, labels = sequences.to(self.device), labels.to(self.device)\n",
    "                \n",
    "                optimizer.zero_grad()\n",
    "                outputs = self.model(sequences)\n",
    "                loss = criterion(outputs, labels)\n",
    "                loss.backward()\n",
    "                optimizer.step()\n",
    "                \n",
    "                train_loss += loss.item()\n",
    "                _, predicted = torch.max(outputs.data, 1)\n",
    "                total_train += labels.size(0)\n",
    "                correct_train += (predicted == labels).sum().item()\n",
    "            \n",
    "            # Validation phase\n",
    "            self.model.eval()\n",
    "            test_loss = 0.0\n",
    "            correct_test = 0\n",
    "            total_test = 0\n",
    "            \n",
    "            with torch.no_grad():\n",
    "                for sequences, labels in test_loader:\n",
    "                    sequences, labels = sequences.to(self.device), labels.to(self.device)\n",
    "                    outputs = self.model(sequences)\n",
    "                    loss = criterion(outputs, labels)\n",
    "                    \n",
    "                    test_loss += loss.item()\n",
    "                    _, predicted = torch.max(outputs.data, 1)\n",
    "                    total_test += labels.size(0)\n",
    "                    correct_test += (predicted == labels).sum().item()\n",
    "            \n",
    "            # Calculate metrics\n",
    "            train_loss /= len(train_loader)\n",
    "            test_loss /= len(test_loader)\n",
    "            train_acc = 100 * correct_train / total_train\n",
    "            test_acc = 100 * correct_test / total_test\n",
    "            \n",
    "            train_losses.append(train_loss)\n",
    "            train_accuracies.append(train_acc)\n",
    "            test_losses.append(test_loss)\n",
    "            test_accuracies.append(test_acc)\n",
    "            \n",
    "            print(f\"Epoch {epoch+1}/{epochs}\")\n",
    "            print(f\"Train Loss: {train_loss:.4f}, Train Acc: {train_acc:.2f}%\")\n",
    "            print(f\"Test Loss: {test_loss:.4f}, Test Acc: {test_acc:.2f}%\")\n",
    "            print(\"-\" * 50)\n",
    "        \n",
    "        # Plot training history\n",
    "        self.plot_training_history(train_losses, train_accuracies, test_losses, test_accuracies)\n",
    "        \n",
    "        print(f\"Final Test Accuracy: {test_acc:.2f}%\")\n",
    "        \n",
    "        return {\n",
    "            'train_losses': train_losses,\n",
    "            'train_accuracies': train_accuracies,\n",
    "            'test_losses': test_losses,\n",
    "            'test_accuracies': test_accuracies\n",
    "        }\n",
    "    \n",
    "    def plot_training_history(self, train_losses, train_accuracies, test_losses, test_accuracies):\n",
    "        \"\"\"Plot training history\"\"\"\n",
    "        fig, (ax1, ax2) = plt.subplots(1, 2, figsize=(12, 4))\n",
    "        \n",
    "        # Plot losses\n",
    "        ax1.plot(train_losses, label='Training Loss')\n",
    "        ax1.plot(test_losses, label='Test Loss')\n",
    "        ax1.set_title('LSTM Model Loss')\n",
    "        ax1.set_xlabel('Epoch')\n",
    "        ax1.set_ylabel('Loss')\n",
    "        ax1.legend()\n",
    "        \n",
    "        # Plot accuracies\n",
    "        ax2.plot(train_accuracies, label='Training Accuracy')\n",
    "        ax2.plot(test_accuracies, label='Test Accuracy')\n",
    "        ax2.set_title('LSTM Model Accuracy')\n",
    "        ax2.set_xlabel('Epoch')\n",
    "        ax2.set_ylabel('Accuracy (%)')\n",
    "        ax2.legend()\n",
    "        \n",
    "        plt.tight_layout()\n",
    "        plt.show()\n",
    "    \n",
    "    def predict_video(self, video_path):\n",
    "        \"\"\"Predict gesture from a video file\"\"\"\n",
    "        if self.model is None:\n",
    "            raise ValueError(\"Model not trained. Call train() first.\")\n",
    "        \n",
    "        landmarks = self.extract_landmarks_from_video(video_path)\n",
    "        \n",
    "        if len(landmarks) == 0:\n",
    "            return None, 0.0\n",
    "        \n",
    "        normalized_landmarks = self.normalize_landmarks(landmarks)\n",
    "        \n",
    "        # Create sequences for prediction\n",
    "        sequences, _ = self.create_sequences(normalized_landmarks, \"dummy\")\n",
    "        \n",
    "        if len(sequences) == 0:\n",
    "            return None, 0.0\n",
    "        \n",
    "        # Convert to tensor\n",
    "        sequences_tensor = torch.FloatTensor(sequences).to(self.device)\n",
    "        \n",
    "        # Predict\n",
    "        self.model.eval()\n",
    "        with torch.no_grad():\n",
    "            outputs = self.model(sequences_tensor)\n",
    "            probabilities = torch.softmax(outputs, dim=1)\n",
    "        \n",
    "        # Average predictions across all sequences\n",
    "        avg_prediction = torch.mean(probabilities, dim=0).cpu().numpy()\n",
    "        \n",
    "        # Get predicted class and confidence\n",
    "        predicted_class_idx = np.argmax(avg_prediction)\n",
    "        confidence = avg_prediction[predicted_class_idx]\n",
    "        \n",
    "        predicted_gesture = self.label_encoder.inverse_transform([predicted_class_idx])[0]\n",
    "        \n",
    "        return predicted_gesture, confidence\n",
    "    \n",
    "    def save_model(self, model_path):\n",
    "        \"\"\"Save the trained model and label encoder\"\"\"\n",
    "        if self.model is None:\n",
    "            raise ValueError(\"No model to save. Train the model first.\")\n",
    "        \n",
    "        # Save model state dict\n",
    "        torch.save({\n",
    "            'model_state_dict': self.model.state_dict(),\n",
    "            'model_params': {\n",
    "                'input_size': 63,\n",
    "                'hidden_size': 64,\n",
    "                'num_layers': 2,\n",
    "                'num_classes': len(self.label_encoder.classes_),\n",
    "                'dropout': 0.2\n",
    "            }\n",
    "        }, f\"{model_path}.pth\")\n",
    "        \n",
    "        # Save label encoder\n",
    "        with open(f\"{model_path}_label_encoder.pkl\", 'wb') as f:\n",
    "            pickle.dump(self.label_encoder, f)\n",
    "        \n",
    "        print(f\"Model saved to {model_path}.pth\")\n",
    "    \n",
    "    def load_model(self, model_path):\n",
    "        \"\"\"Load a trained model and label encoder\"\"\"\n",
    "        # Load model checkpoint\n",
    "        checkpoint = torch.load(f\"{model_path}.pth\", map_location=self.device)\n",
    "        \n",
    "        # Initialize model with saved parameters\n",
    "        params = checkpoint['model_params']\n",
    "        self.model = GestureLSTM(\n",
    "            params['input_size'],\n",
    "            params['hidden_size'],\n",
    "            params['num_layers'],\n",
    "            params['num_classes'],\n",
    "            params['dropout']\n",
    "        )\n",
    "        \n",
    "        # Load model state\n",
    "        self.model.load_state_dict(checkpoint['model_state_dict'])\n",
    "        self.model.to(self.device)\n",
    "        self.model.eval()\n",
    "        \n",
    "        # Load label encoder\n",
    "        with open(f\"{model_path}_label_encoder.pkl\", 'rb') as f:\n",
    "            self.label_encoder = pickle.load(f)\n",
    "        \n",
    "        print(f\"Model loaded from {model_path}.pth\")\n"
   ]
  },
  {
   "cell_type": "code",
   "execution_count": null,
   "id": "158bc168",
   "metadata": {},
   "outputs": [
    {
     "name": "stderr",
     "output_type": "stream",
     "text": [
      "I0000 00:00:1753123757.046398  371615 gl_context.cc:369] GL version: 2.1 (2.1 Metal - 88), renderer: Apple M3 Pro\n",
      "W0000 00:00:1753123757.053124  428925 inference_feedback_manager.cc:114] Feedback manager requires a model with a single signature inference. Disabling support for feedback tensors.\n",
      "W0000 00:00:1753123757.057717  428927 inference_feedback_manager.cc:114] Feedback manager requires a model with a single signature inference. Disabling support for feedback tensors.\n"
     ]
    },
    {
     "name": "stdout",
     "output_type": "stream",
     "text": [
      "Using device: cpu\n",
      "Processing video dataset...\n",
      "Processing 45 videos for gesture: paper\n",
      "Processing 45 videos for gesture: rock\n",
      "Processing 45 videos for gesture: scissors\n",
      "Total sequences: 6068\n",
      "Sequence shape: (6068, 15, 63)\n",
      "Unique labels: ['paper' 'rock' 'scissors']\n",
      "Training samples: 4854\n",
      "Testing samples: 1214\n",
      "Starting training...\n"
     ]
    },
    {
     "name": "stderr",
     "output_type": "stream",
     "text": [
      "Epoch 1/35: 100%|██████████| 304/304 [00:01<00:00, 269.97it/s]\n"
     ]
    },
    {
     "name": "stdout",
     "output_type": "stream",
     "text": [
      "Epoch 1/35\n",
      "Train Loss: 0.8243, Train Acc: 62.32%\n",
      "Test Loss: 0.6519, Test Acc: 69.93%\n",
      "--------------------------------------------------\n"
     ]
    },
    {
     "name": "stderr",
     "output_type": "stream",
     "text": [
      "Epoch 2/35: 100%|██████████| 304/304 [00:01<00:00, 267.62it/s]\n"
     ]
    },
    {
     "name": "stdout",
     "output_type": "stream",
     "text": [
      "Epoch 2/35\n",
      "Train Loss: 0.5797, Train Acc: 75.65%\n",
      "Test Loss: 0.4783, Test Acc: 81.55%\n",
      "--------------------------------------------------\n"
     ]
    },
    {
     "name": "stderr",
     "output_type": "stream",
     "text": [
      "Epoch 3/35: 100%|██████████| 304/304 [00:01<00:00, 264.09it/s]\n"
     ]
    },
    {
     "name": "stdout",
     "output_type": "stream",
     "text": [
      "Epoch 3/35\n",
      "Train Loss: 0.5025, Train Acc: 79.09%\n",
      "Test Loss: 0.4458, Test Acc: 82.45%\n",
      "--------------------------------------------------\n"
     ]
    },
    {
     "name": "stderr",
     "output_type": "stream",
     "text": [
      "Epoch 4/35: 100%|██████████| 304/304 [00:01<00:00, 267.21it/s]\n"
     ]
    },
    {
     "name": "stdout",
     "output_type": "stream",
     "text": [
      "Epoch 4/35\n",
      "Train Loss: 0.4830, Train Acc: 80.55%\n",
      "Test Loss: 0.4743, Test Acc: 81.38%\n",
      "--------------------------------------------------\n"
     ]
    },
    {
     "name": "stderr",
     "output_type": "stream",
     "text": [
      "Epoch 5/35: 100%|██████████| 304/304 [00:01<00:00, 265.64it/s]\n"
     ]
    },
    {
     "name": "stdout",
     "output_type": "stream",
     "text": [
      "Epoch 5/35\n",
      "Train Loss: 0.4404, Train Acc: 81.99%\n",
      "Test Loss: 0.4331, Test Acc: 82.29%\n",
      "--------------------------------------------------\n"
     ]
    },
    {
     "name": "stderr",
     "output_type": "stream",
     "text": [
      "Epoch 6/35: 100%|██████████| 304/304 [00:01<00:00, 268.00it/s]\n"
     ]
    },
    {
     "name": "stdout",
     "output_type": "stream",
     "text": [
      "Epoch 6/35\n",
      "Train Loss: 0.4135, Train Acc: 83.54%\n",
      "Test Loss: 0.4052, Test Acc: 82.21%\n",
      "--------------------------------------------------\n"
     ]
    },
    {
     "name": "stderr",
     "output_type": "stream",
     "text": [
      "Epoch 7/35: 100%|██████████| 304/304 [00:01<00:00, 261.30it/s]\n"
     ]
    },
    {
     "name": "stdout",
     "output_type": "stream",
     "text": [
      "Epoch 7/35\n",
      "Train Loss: 0.3963, Train Acc: 83.72%\n",
      "Test Loss: 0.3760, Test Acc: 85.01%\n",
      "--------------------------------------------------\n"
     ]
    },
    {
     "name": "stderr",
     "output_type": "stream",
     "text": [
      "Epoch 8/35: 100%|██████████| 304/304 [00:01<00:00, 264.78it/s]\n"
     ]
    },
    {
     "name": "stdout",
     "output_type": "stream",
     "text": [
      "Epoch 8/35\n",
      "Train Loss: 0.3915, Train Acc: 83.85%\n",
      "Test Loss: 0.4141, Test Acc: 82.78%\n",
      "--------------------------------------------------\n"
     ]
    },
    {
     "name": "stderr",
     "output_type": "stream",
     "text": [
      "Epoch 9/35: 100%|██████████| 304/304 [00:01<00:00, 264.53it/s]\n"
     ]
    },
    {
     "name": "stdout",
     "output_type": "stream",
     "text": [
      "Epoch 9/35\n",
      "Train Loss: 0.3735, Train Acc: 84.75%\n",
      "Test Loss: 0.3374, Test Acc: 85.83%\n",
      "--------------------------------------------------\n"
     ]
    },
    {
     "name": "stderr",
     "output_type": "stream",
     "text": [
      "Epoch 10/35: 100%|██████████| 304/304 [00:01<00:00, 260.72it/s]\n"
     ]
    },
    {
     "name": "stdout",
     "output_type": "stream",
     "text": [
      "Epoch 10/35\n",
      "Train Loss: 0.3327, Train Acc: 85.99%\n",
      "Test Loss: 0.3273, Test Acc: 86.41%\n",
      "--------------------------------------------------\n"
     ]
    },
    {
     "name": "stderr",
     "output_type": "stream",
     "text": [
      "Epoch 11/35: 100%|██████████| 304/304 [00:01<00:00, 262.67it/s]\n"
     ]
    },
    {
     "name": "stdout",
     "output_type": "stream",
     "text": [
      "Epoch 11/35\n",
      "Train Loss: 0.3129, Train Acc: 86.71%\n",
      "Test Loss: 0.2947, Test Acc: 86.99%\n",
      "--------------------------------------------------\n"
     ]
    },
    {
     "name": "stderr",
     "output_type": "stream",
     "text": [
      "Epoch 12/35: 100%|██████████| 304/304 [00:01<00:00, 263.60it/s]\n"
     ]
    },
    {
     "name": "stdout",
     "output_type": "stream",
     "text": [
      "Epoch 12/35\n",
      "Train Loss: 0.2822, Train Acc: 88.38%\n",
      "Test Loss: 0.3367, Test Acc: 87.15%\n",
      "--------------------------------------------------\n"
     ]
    },
    {
     "name": "stderr",
     "output_type": "stream",
     "text": [
      "Epoch 13/35: 100%|██████████| 304/304 [00:01<00:00, 260.33it/s]\n"
     ]
    },
    {
     "name": "stdout",
     "output_type": "stream",
     "text": [
      "Epoch 13/35\n",
      "Train Loss: 0.2948, Train Acc: 88.03%\n",
      "Test Loss: 0.2750, Test Acc: 88.96%\n",
      "--------------------------------------------------\n"
     ]
    },
    {
     "name": "stderr",
     "output_type": "stream",
     "text": [
      "Epoch 14/35: 100%|██████████| 304/304 [00:01<00:00, 262.49it/s]\n"
     ]
    },
    {
     "name": "stdout",
     "output_type": "stream",
     "text": [
      "Epoch 14/35\n",
      "Train Loss: 0.2665, Train Acc: 89.16%\n",
      "Test Loss: 0.3333, Test Acc: 85.91%\n",
      "--------------------------------------------------\n"
     ]
    },
    {
     "name": "stderr",
     "output_type": "stream",
     "text": [
      "Epoch 15/35: 100%|██████████| 304/304 [00:01<00:00, 262.82it/s]\n"
     ]
    },
    {
     "name": "stdout",
     "output_type": "stream",
     "text": [
      "Epoch 15/35\n",
      "Train Loss: 0.2371, Train Acc: 90.50%\n",
      "Test Loss: 0.2701, Test Acc: 90.53%\n",
      "--------------------------------------------------\n"
     ]
    },
    {
     "name": "stderr",
     "output_type": "stream",
     "text": [
      "Epoch 16/35: 100%|██████████| 304/304 [00:01<00:00, 262.52it/s]\n"
     ]
    },
    {
     "name": "stdout",
     "output_type": "stream",
     "text": [
      "Epoch 16/35\n",
      "Train Loss: 0.2354, Train Acc: 90.46%\n",
      "Test Loss: 0.3127, Test Acc: 89.29%\n",
      "--------------------------------------------------\n"
     ]
    },
    {
     "name": "stderr",
     "output_type": "stream",
     "text": [
      "Epoch 17/35: 100%|██████████| 304/304 [00:01<00:00, 258.70it/s]\n"
     ]
    },
    {
     "name": "stdout",
     "output_type": "stream",
     "text": [
      "Epoch 17/35\n",
      "Train Loss: 0.2321, Train Acc: 90.91%\n",
      "Test Loss: 0.2334, Test Acc: 92.17%\n",
      "--------------------------------------------------\n"
     ]
    },
    {
     "name": "stderr",
     "output_type": "stream",
     "text": [
      "Epoch 18/35: 100%|██████████| 304/304 [00:01<00:00, 262.03it/s]\n"
     ]
    },
    {
     "name": "stdout",
     "output_type": "stream",
     "text": [
      "Epoch 18/35\n",
      "Train Loss: 0.1872, Train Acc: 92.91%\n",
      "Test Loss: 0.2115, Test Acc: 91.27%\n",
      "--------------------------------------------------\n"
     ]
    },
    {
     "name": "stderr",
     "output_type": "stream",
     "text": [
      "Epoch 19/35: 100%|██████████| 304/304 [00:01<00:00, 261.41it/s]\n"
     ]
    },
    {
     "name": "stdout",
     "output_type": "stream",
     "text": [
      "Epoch 19/35\n",
      "Train Loss: 0.2230, Train Acc: 91.39%\n",
      "Test Loss: 0.2406, Test Acc: 91.10%\n",
      "--------------------------------------------------\n"
     ]
    },
    {
     "name": "stderr",
     "output_type": "stream",
     "text": [
      "Epoch 20/35: 100%|██████████| 304/304 [00:01<00:00, 258.46it/s]\n"
     ]
    },
    {
     "name": "stdout",
     "output_type": "stream",
     "text": [
      "Epoch 20/35\n",
      "Train Loss: 0.1742, Train Acc: 92.89%\n",
      "Test Loss: 0.1870, Test Acc: 93.66%\n",
      "--------------------------------------------------\n"
     ]
    },
    {
     "name": "stderr",
     "output_type": "stream",
     "text": [
      "Epoch 21/35: 100%|██████████| 304/304 [00:01<00:00, 261.33it/s]\n"
     ]
    },
    {
     "name": "stdout",
     "output_type": "stream",
     "text": [
      "Epoch 21/35\n",
      "Train Loss: 0.1767, Train Acc: 93.26%\n",
      "Test Loss: 0.2082, Test Acc: 91.93%\n",
      "--------------------------------------------------\n"
     ]
    },
    {
     "name": "stderr",
     "output_type": "stream",
     "text": [
      "Epoch 22/35: 100%|██████████| 304/304 [00:01<00:00, 260.89it/s]\n"
     ]
    },
    {
     "name": "stdout",
     "output_type": "stream",
     "text": [
      "Epoch 22/35\n",
      "Train Loss: 0.1632, Train Acc: 93.68%\n",
      "Test Loss: 0.1960, Test Acc: 92.50%\n",
      "--------------------------------------------------\n"
     ]
    },
    {
     "name": "stderr",
     "output_type": "stream",
     "text": [
      "Epoch 23/35: 100%|██████████| 304/304 [00:01<00:00, 257.13it/s]\n"
     ]
    },
    {
     "name": "stdout",
     "output_type": "stream",
     "text": [
      "Epoch 23/35\n",
      "Train Loss: 0.1492, Train Acc: 94.21%\n",
      "Test Loss: 0.1417, Test Acc: 94.48%\n",
      "--------------------------------------------------\n"
     ]
    },
    {
     "name": "stderr",
     "output_type": "stream",
     "text": [
      "Epoch 24/35: 100%|██████████| 304/304 [00:01<00:00, 260.62it/s]\n"
     ]
    },
    {
     "name": "stdout",
     "output_type": "stream",
     "text": [
      "Epoch 24/35\n",
      "Train Loss: 0.1582, Train Acc: 94.09%\n",
      "Test Loss: 0.1943, Test Acc: 92.67%\n",
      "--------------------------------------------------\n"
     ]
    },
    {
     "name": "stderr",
     "output_type": "stream",
     "text": [
      "Epoch 25/35: 100%|██████████| 304/304 [00:01<00:00, 259.90it/s]\n"
     ]
    },
    {
     "name": "stdout",
     "output_type": "stream",
     "text": [
      "Epoch 25/35\n",
      "Train Loss: 0.1440, Train Acc: 94.71%\n",
      "Test Loss: 0.1996, Test Acc: 92.83%\n",
      "--------------------------------------------------\n"
     ]
    },
    {
     "name": "stderr",
     "output_type": "stream",
     "text": [
      "Epoch 26/35: 100%|██████████| 304/304 [00:01<00:00, 256.22it/s]\n"
     ]
    },
    {
     "name": "stdout",
     "output_type": "stream",
     "text": [
      "Epoch 26/35\n",
      "Train Loss: 0.1766, Train Acc: 93.88%\n",
      "Test Loss: 0.1699, Test Acc: 93.66%\n",
      "--------------------------------------------------\n"
     ]
    },
    {
     "name": "stderr",
     "output_type": "stream",
     "text": [
      "Epoch 27/35: 100%|██████████| 304/304 [00:01<00:00, 259.92it/s]\n"
     ]
    },
    {
     "name": "stdout",
     "output_type": "stream",
     "text": [
      "Epoch 27/35\n",
      "Train Loss: 0.1370, Train Acc: 95.04%\n",
      "Test Loss: 0.1151, Test Acc: 95.80%\n",
      "--------------------------------------------------\n"
     ]
    },
    {
     "name": "stderr",
     "output_type": "stream",
     "text": [
      "Epoch 28/35: 100%|██████████| 304/304 [00:01<00:00, 259.98it/s]\n"
     ]
    },
    {
     "name": "stdout",
     "output_type": "stream",
     "text": [
      "Epoch 28/35\n",
      "Train Loss: 0.1156, Train Acc: 95.59%\n",
      "Test Loss: 0.1476, Test Acc: 95.30%\n",
      "--------------------------------------------------\n"
     ]
    },
    {
     "name": "stderr",
     "output_type": "stream",
     "text": [
      "Epoch 29/35: 100%|██████████| 304/304 [00:01<00:00, 259.58it/s]\n"
     ]
    },
    {
     "name": "stdout",
     "output_type": "stream",
     "text": [
      "Epoch 29/35\n",
      "Train Loss: 0.1088, Train Acc: 95.90%\n",
      "Test Loss: 0.1421, Test Acc: 95.80%\n",
      "--------------------------------------------------\n"
     ]
    },
    {
     "name": "stderr",
     "output_type": "stream",
     "text": [
      "Epoch 30/35: 100%|██████████| 304/304 [00:01<00:00, 255.84it/s]\n"
     ]
    },
    {
     "name": "stdout",
     "output_type": "stream",
     "text": [
      "Epoch 30/35\n",
      "Train Loss: 0.1541, Train Acc: 95.01%\n",
      "Test Loss: 0.1040, Test Acc: 96.62%\n",
      "--------------------------------------------------\n"
     ]
    },
    {
     "name": "stderr",
     "output_type": "stream",
     "text": [
      "Epoch 31/35: 100%|██████████| 304/304 [00:01<00:00, 259.81it/s]\n"
     ]
    },
    {
     "name": "stdout",
     "output_type": "stream",
     "text": [
      "Epoch 31/35\n",
      "Train Loss: 0.1082, Train Acc: 96.17%\n",
      "Test Loss: 0.1076, Test Acc: 96.71%\n",
      "--------------------------------------------------\n"
     ]
    },
    {
     "name": "stderr",
     "output_type": "stream",
     "text": [
      "Epoch 32/35: 100%|██████████| 304/304 [00:01<00:00, 258.64it/s]\n"
     ]
    },
    {
     "name": "stdout",
     "output_type": "stream",
     "text": [
      "Epoch 32/35\n",
      "Train Loss: 0.1057, Train Acc: 96.17%\n",
      "Test Loss: 0.1129, Test Acc: 96.54%\n",
      "--------------------------------------------------\n"
     ]
    },
    {
     "name": "stderr",
     "output_type": "stream",
     "text": [
      "Epoch 33/35: 100%|██████████| 304/304 [00:01<00:00, 256.75it/s]\n"
     ]
    },
    {
     "name": "stdout",
     "output_type": "stream",
     "text": [
      "Epoch 33/35\n",
      "Train Loss: 0.1128, Train Acc: 96.17%\n",
      "Test Loss: 0.1299, Test Acc: 95.47%\n",
      "--------------------------------------------------\n"
     ]
    },
    {
     "name": "stderr",
     "output_type": "stream",
     "text": [
      "Epoch 34/35: 100%|██████████| 304/304 [00:01<00:00, 258.89it/s]\n"
     ]
    },
    {
     "name": "stdout",
     "output_type": "stream",
     "text": [
      "Epoch 34/35\n",
      "Train Loss: 0.1297, Train Acc: 95.53%\n",
      "Test Loss: 0.1325, Test Acc: 95.22%\n",
      "--------------------------------------------------\n"
     ]
    },
    {
     "name": "stderr",
     "output_type": "stream",
     "text": [
      "Epoch 35/35: 100%|██████████| 304/304 [00:01<00:00, 258.36it/s]\n"
     ]
    },
    {
     "name": "stdout",
     "output_type": "stream",
     "text": [
      "Epoch 35/35\n",
      "Train Loss: 0.1152, Train Acc: 95.76%\n",
      "Test Loss: 0.1009, Test Acc: 97.12%\n",
      "--------------------------------------------------\n"
     ]
    },
    {
     "data": {
      "image/png": "[encoded data removed]",
      "text/plain": [
       "<Figure size 1200x400 with 2 Axes>"
      ]
     },
     "metadata": {},
     "output_type": "display_data"
    },
    {
     "name": "stdout",
     "output_type": "stream",
     "text": [
      "Final Test Accuracy: 97.12%\n",
      "Model saved to rps_model_lstm.pth\n"
     ]
    }
   ],
   "source": [
    "#########\n",
    "# TRAIN #\n",
    "#########\n",
    "\n",
    "video_directory = \"/Users/christina/code/RockPaperScissors/my_rps_dataset/data\"\n",
    "classifier = RPSGestureClassifier(sequence_length=15)\n",
    "history = classifier.train(video_directory, epochs=35, batch_size=16)\n",
    "classifier.save_model(\"rps_model_lstm\")\n"
   ]
  },
  {
   "cell_type": "code",
   "execution_count": 10,
   "id": "50109a44",
   "metadata": {},
   "outputs": [
    {
     "name": "stderr",
     "output_type": "stream",
     "text": [
      "/opt/anaconda3/envs/cs587_env/lib/python3.10/site-packages/sklearn/base.py:347: InconsistentVersionWarning: Trying to unpickle estimator LabelEncoder from version 1.7.0 when using version 1.3.0. This might lead to breaking code or invalid results. Use at your own risk. For more info please refer to:\n",
      "https://scikit-learn.org/stable/model_persistence.html#security-maintainability-limitations\n",
      "  warnings.warn(\n"
     ]
    },
    {
     "name": "stdout",
     "output_type": "stream",
     "text": [
      "Model loaded from rps_model.pth\n",
      "Predicted gesture: scissors (confidence: 0.85)\n"
     ]
    }
   ],
   "source": [
    "    \n",
    "    # Uncomment to load existing model\n",
    "    classifier.load_model(\"rps_model\")\n",
    "    \n",
    "    # Test prediction on a single video\n",
    "    gesture, confidence = classifier.predict_video(\"/Users/christina/code/RockPaperScissors/my_rps_dataset/data/scissors/scissors_36.avi\")\n",
    "    print(f\"Predicted gesture: {gesture} (confidence: {confidence:.2f})\")"
   ]
  }
 ],
 "metadata": {
  "kernelspec": {
   "display_name": "rps_venv",
   "language": "python",
   "name": "python3"
  },
  "language_info": {
   "codemirror_mode": {
    "name": "ipython",
    "version": 3
   },
   "file_extension": ".py",
   "mimetype": "text/x-python",
   "name": "python",
   "nbconvert_exporter": "python",
   "pygments_lexer": "ipython3",
   "version": "3.12.1"
  }
 },
 "nbformat": 4,
 "nbformat_minor": 5
}
